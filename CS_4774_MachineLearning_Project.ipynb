{
  "nbformat": 4,
  "nbformat_minor": 0,
  "metadata": {
    "colab": {
      "provenance": []
    },
    "kernelspec": {
      "name": "python3",
      "display_name": "Python 3"
    },
    "language_info": {
      "name": "python"
    }
  },
  "cells": [
    {
      "cell_type": "code",
      "execution_count": null,
      "metadata": {
        "id": "mW7YFq-r72wa"
      },
      "outputs": [],
      "source": [
        "# data processing\n",
        "# x_train is like past n days, y_train is future n days\n",
        "# past n days will be 365 ? future n days is 7 ? for the week?\n",
        "'''\n",
        "x_train = []\n",
        "y_train = []\n",
        "n_future = 4 # next 4 days temperature forecast\n",
        "n_past = 30 # Past 30 days\n",
        "for i in range(0,len(training_set_scaled)-n_past-n_future+1):\n",
        "    x_train.append(training_set_scaled[i : i + n_past , 0])\n",
        "    y_train.append(training_set_scaled[i + n_past : i + n_past + n_future , 0 ])\n",
        "x_train , y_train = np.array(x_train), np.array(y_train)\n",
        "x_train = np.reshape(x_train, (x_train.shape[0] , x_train.shape[1], 1) )\n",
        "'''"
      ]
    },
    {
      "cell_type": "code",
      "source": [
        "# data visualization"
      ],
      "metadata": {
        "id": "bXDj6Owm79he"
      },
      "execution_count": null,
      "outputs": []
    },
    {
      "cell_type": "code",
      "source": [
        "# data standardizing"
      ],
      "metadata": {
        "id": "FoAwgv_C7_AX"
      },
      "execution_count": null,
      "outputs": []
    },
    {
      "cell_type": "code",
      "source": [
        "# model: recurrent neural network\n",
        "\n",
        "# x_train and y_train should be numpy arrays\n",
        "\n",
        "# https://medium.com/analytics-vidhya/weather-forecasting-with-recurrent-neural-networks-1eaa057d70c3\n",
        "\n",
        "from keras.models import Sequential\n",
        "from keras.layers import LSTM,Dense ,Dropout\n",
        "\n",
        "# set up regressor model\n",
        "regressor = Sequential()\n",
        "regressor.add(Bidirectional(LSTM(units=30, return_sequences=True, input_shape = (x_train.shape[1],1) ) ))\n",
        "regressor.add(Dropout(0.2))\n",
        "regressor.add(LSTM(units= 30 , return_sequences=True))\n",
        "regressor.add(Dropout(0.2))\n",
        "regressor.add(LSTM(units= 30 , return_sequences=True))\n",
        "regressor.add(Dropout(0.2))\n",
        "regressor.add(LSTM(units= 30))\n",
        "regressor.add(Dropout(0.2))\n",
        "regressor.add(Dense(units = n_future,activation='linear'))\n",
        "regressor.compile(optimizer='adam', loss='mean_squared_error',metrics=['acc']) # adam optimizer for optimal efficiency\n",
        "regressor.fit(x_train, y_train, epochs=500,batch_size=32 )\n"
      ],
      "metadata": {
        "id": "KydzJDoH8Afp"
      },
      "execution_count": null,
      "outputs": []
    },
    {
      "cell_type": "code",
      "source": [
        "# read test dataset\n",
        "testdataset = y_test\n",
        "real_temperature = y_test\n",
        "testing = sc.transform(testdataset)\n",
        "testing = np.array(testing)\n",
        "testing = np.reshape(testing,(testing.shape[1],testing.shape[0],1))\n",
        "\n",
        "# predict model\n",
        "predicted_temperature = regressor.predict(testing)\n",
        "predicted_temperature = sc.inverse_transform(predicted_temperature)\n",
        "predicted_temperature = np.reshape(predicted_temperature,(predicted_temperature.shape[1],predicted_temperature.shape[0]))\n"
      ],
      "metadata": {
        "id": "pj9L_rAAcWQO"
      },
      "execution_count": null,
      "outputs": []
    }
  ]
}