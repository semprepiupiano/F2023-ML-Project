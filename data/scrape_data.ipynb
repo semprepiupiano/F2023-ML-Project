{
 "cells": [
  {
   "cell_type": "code",
   "execution_count": 12,
   "metadata": {},
   "outputs": [],
   "source": [
    "import os\n",
    "import requests\n",
    "import json\n",
    "import pickle"
   ]
  },
  {
   "cell_type": "code",
   "execution_count": 13,
   "metadata": {},
   "outputs": [],
   "source": [
    "EMAIL= \"vnh8du@virginia.edu\"\n",
    "API_KEY = os.environ[\"AQS_API_KEY\"]"
   ]
  },
  {
   "cell_type": "code",
   "execution_count": 14,
   "metadata": {},
   "outputs": [],
   "source": [
    "def get_state_code(state_name):\n",
    "    data = requests.get(f\"https://aqs.epa.gov/data/api/list/states?email={EMAIL}&key={API_KEY}\").json()['Data']\n",
    "    for entry in data:\n",
    "        if entry['value_represented'] == state_name:\n",
    "            return entry['code']\n",
    "    raise ValueError(f\"Invalid state name: {state_name}\")\n"
   ]
  },
  {
   "cell_type": "code",
   "execution_count": 15,
   "metadata": {},
   "outputs": [],
   "source": [
    "def get_county_code(state_code, county_name):\n",
    "    data = requests.get(f\"https://aqs.epa.gov/data/api/list/countiesByState?email={EMAIL}&key={API_KEY}&state={state_code}\").json()['Data']\n",
    "    for entry in data:\n",
    "        if entry['value_represented'] == county_name:\n",
    "            return entry['code']\n",
    "    raise ValueError(f\"Invalid county name: {county_name}\")"
   ]
  },
  {
   "cell_type": "code",
   "execution_count": 16,
   "metadata": {},
   "outputs": [],
   "source": [
    "def get_site_codes(state_code, county_code):\n",
    "    data = requests.get(f\"https://aqs.epa.gov/data/api/list/sitesByCounty?email={EMAIL}&key={API_KEY}&state={state_code}&county={county_code}\").json()\n",
    "    return [entry['code'] for entry in data['Data']]"
   ]
  },
  {
   "cell_type": "code",
   "execution_count": 17,
   "metadata": {},
   "outputs": [],
   "source": [
    "def get_all_parameter_codes():\n",
    "    # data = requests.get(f\"https://aqs.epa.gov/data/api/list/parametersByClass?email={EMAIL}&key={API_KEY}&pc=ALL\").json()\n",
    "    # return \",\".join([entry['code'] for entry in data['Data']])\n",
    "    # 42401: sulfur dioxide\n",
    "    # 87111: PM1 - Local Conditions\n",
    "    # 81101 - PM2.5 - Local Conditions\n",
    "    # 42101: Carbon monoxide\n",
    "    # 44201: Ozone\n",
    "    return \"42401,87111,81101,42101,44201\""
   ]
  },
  {
   "cell_type": "code",
   "execution_count": 18,
   "metadata": {},
   "outputs": [],
   "source": [
    "def get_aqi_parameter_codes():\n",
    "    data = requests.get(f\"https://aqs.epa.gov/data/api/list/parametersByClass?email={EMAIL}&key={API_KEY}&pc=AQI POLLUTANTS\").json()\n",
    "    return \",\".join([entry['code'] for entry in data['Data']])"
   ]
  },
  {
   "cell_type": "code",
   "execution_count": 19,
   "metadata": {},
   "outputs": [],
   "source": [
    "def get_site_data(state_code, county_code, site_code, bdate, edate, parameters):\n",
    "    URL = f\"https://aqs.epa.gov/data/api/dailyData/bySite?email={EMAIL}&key={API_KEY}&param={parameters}&bdate={bdate}&edate={edate}&state={state_code}&county={county_code}&site={site_code}\"\n",
    "    result = requests.get(URL)\n",
    "    return result.json()['Data']"
   ]
  },
  {
   "cell_type": "code",
   "execution_count": 20,
   "metadata": {},
   "outputs": [],
   "source": [
    "def get_aqi_data(state_code, county_code, site_code, bdate, edate):\n",
    "    URL = f\"https://aqs.epa.gov/data/api/dailyData/bySite?email={EMAIL}&key={API_KEY}&bdate={bdate}&edate={edate}&state={state_code}&county={county_code}&site={site_code}\"\n",
    "    r =  requests.get(URL).json() # ['Data']\n",
    "    return "
   ]
  },
  {
   "cell_type": "code",
   "execution_count": 21,
   "metadata": {},
   "outputs": [],
   "source": [
    "def get_all_site_data(state_code, county_code, site_codes, bdate, edate, parameters):\n",
    "    pass"
   ]
  },
  {
   "cell_type": "code",
   "execution_count": 22,
   "metadata": {},
   "outputs": [],
   "source": [
    "\n",
    "def main():\n",
    "    state_code = get_state_code(\"Virginia\")\n",
    "    county_code = get_county_code(state_code, \"Albemarle\")\n",
    "    site_code = get_site_codes(state_code, county_code)[0]\n",
    "    # bdate = 20200101\n",
    "    # edate = 20201231\n",
    "    byear = 2017\n",
    "    eyear = 2022\n",
    "    parameters = get_all_parameter_codes()\n",
    "    # print(parameters)\n",
    "    # aqi_data = get_aqi_data(state_code, county_code, site_code, bdate, edate)\n",
    "    # with open(\"aqi_data.pkl\", \"wb\") as f:\n",
    "    #     pickle.dump(aqi_data, f)\n",
    "    site_data = dict()\n",
    "    for year in range(byear, eyear + 1):\n",
    "        bdate = f\"{year}0101\"\n",
    "        edate = f\"{year}1231\"\n",
    "        site_data[year] = get_site_data(state_code, county_code, site_code, bdate, edate, parameters)\n",
    "    with open(\"site_data.pkl\", \"wb\") as f:\n",
    "        pickle.dump(site_data, f)\n",
    "    # print(get_site_data(state_code, county_code, site_code, bdate, edate, parameters))\n",
    "    \n",
    "if __name__ == \"__main__\":\n",
    "    main()"
   ]
  }
 ],
 "metadata": {
  "kernelspec": {
   "display_name": "env",
   "language": "python",
   "name": "python3"
  },
  "language_info": {
   "codemirror_mode": {
    "name": "ipython",
    "version": 3
   },
   "file_extension": ".py",
   "mimetype": "text/x-python",
   "name": "python",
   "nbconvert_exporter": "python",
   "pygments_lexer": "ipython3",
   "version": "3.8.10"
  }
 },
 "nbformat": 4,
 "nbformat_minor": 2
}
