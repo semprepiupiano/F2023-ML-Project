{
 "cells": [
  {
   "cell_type": "markdown",
   "metadata": {},
   "source": [
    "# Notebook for Processing AQI Data"
   ]
  },
  {
   "cell_type": "code",
   "execution_count": 27,
   "metadata": {},
   "outputs": [],
   "source": [
    "# Imports\n",
    "import pandas as pd\n",
    "test_data = pd.read_csv(\"daily_aqi_by_county_2017.csv\")"
   ]
  },
  {
   "cell_type": "code",
   "execution_count": null,
   "metadata": {},
   "outputs": [],
   "source": [
    "def fill_missing_aqi(df):\n",
    "    for i in range(len(df)):\n",
    "        if pd.isna(df.at[i, 'AQI']):\n",
    "            before_index = i - 1\n",
    "            after_index = i + 1\n",
    "            while before_index >= 0 and pd.isna(df.at[before_index, 'AQI']):\n",
    "                before_index -= 1\n",
    "            \n",
    "            while \n",
    "            df.at[i-1, 'AQI'] + df.at[i+1, 'AQI']"
   ]
  },
  {
   "cell_type": "code",
   "execution_count": 31,
   "metadata": {},
   "outputs": [
    {
     "data": {
      "text/plain": [
       "DatetimeIndex(['2017-11-20', '2017-11-22', '2017-11-23', '2017-11-25',\n",
       "               '2017-11-26', '2017-11-28', '2017-11-29', '2017-12-01',\n",
       "               '2017-12-02', '2017-12-04', '2017-12-05', '2017-12-07',\n",
       "               '2017-12-08', '2017-12-10', '2017-12-11', '2017-12-13',\n",
       "               '2017-12-22', '2017-12-31'],\n",
       "              dtype='datetime64[ns]', freq=None)"
      ]
     },
     "execution_count": 31,
     "metadata": {},
     "output_type": "execute_result"
    }
   ],
   "source": [
    "from datetime import datetime\n",
    "\n",
    "test_data_virginia_only = test_data[test_data['county Name'] == 'Albemarle'].sort_values('Date').reset_index()\n",
    "start_date = '2017-01-01'\n",
    "end_date = '2017-12-31'\n",
    "expected_dates = pd.date_range(start=start_date, end=end_date)\n",
    "test_data_virginia_only['Date'] = pd.to_datetime(test_data_virginia_only['Date'])\n",
    "missing_dates = expected_dates[~expected_dates.isin(test_data_virginia_only['Date'])]\n"
   ]
  },
  {
   "cell_type": "code",
   "execution_count": 24,
   "metadata": {},
   "outputs": [],
   "source": [
    "test_data_2 = pd.read_csv(\"daily_aqi_by_county_2018.csv\")\n",
    "test_data_2_cleaned = test_data_2[test_data_2['county Name'] == 'Albemarle'].sort_values('Date').reset_index()['AQI']"
   ]
  },
  {
   "cell_type": "code",
   "execution_count": 25,
   "metadata": {},
   "outputs": [
    {
     "data": {
      "text/plain": [
       "0      33\n",
       "1      18\n",
       "2       6\n",
       "3      11\n",
       "4      13\n",
       "       ..\n",
       "652    37\n",
       "653     6\n",
       "654    35\n",
       "655    13\n",
       "656    33\n",
       "Name: AQI, Length: 657, dtype: int64"
      ]
     },
     "execution_count": 25,
     "metadata": {},
     "output_type": "execute_result"
    }
   ],
   "source": [
    "pd.concat([test_data_cleaned, test_data_2_cleaned], ignore_index=True)"
   ]
  }
 ],
 "metadata": {
  "kernelspec": {
   "display_name": "env",
   "language": "python",
   "name": "python3"
  },
  "language_info": {
   "codemirror_mode": {
    "name": "ipython",
    "version": 3
   },
   "file_extension": ".py",
   "mimetype": "text/x-python",
   "name": "python",
   "nbconvert_exporter": "python",
   "pygments_lexer": "ipython3",
   "version": "3.8.10"
  }
 },
 "nbformat": 4,
 "nbformat_minor": 2
}
