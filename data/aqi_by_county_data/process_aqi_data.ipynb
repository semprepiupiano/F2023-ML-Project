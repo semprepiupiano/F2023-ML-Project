{
 "cells": [
  {
   "cell_type": "markdown",
   "metadata": {},
   "source": [
    "# Notebook for Processing AQI Data"
   ]
  },
  {
   "cell_type": "code",
   "execution_count": 52,
   "metadata": {},
   "outputs": [],
   "source": [
    "# Imports\n",
    "import pandas as pd\n",
    "import pickle"
   ]
  },
  {
   "cell_type": "code",
   "execution_count": 54,
   "metadata": {},
   "outputs": [],
   "source": [
    "def fill_missing_aqi(df, start_date, end_date):\n",
    "    df['AQI'] = df['AQI'].astype('int')\n",
    "    expected_dates = pd.date_range(start=start_date, end=end_date)\n",
    "    df['Date'] = pd.to_datetime(df['Date'])\n",
    "    df = df.set_index('Date').reindex(expected_dates).reset_index()\n",
    "    df = df.rename(columns={'level_0': 'Date'})\n",
    "    replacement_values = dict()\n",
    "    for i in range(len(df)):\n",
    "        if pd.isna(df.at[i, 'AQI']):\n",
    "            before_index = i - 1\n",
    "            after_index = i + 1\n",
    "            while before_index >= 0 and pd.isna(df.at[before_index, 'AQI']):\n",
    "                before_index -= 1\n",
    "            while after_index < len(df) and pd.isna(df.at[after_index, 'AQI']):\n",
    "                after_index += 1\n",
    "            if before_index < 0:\n",
    "                val = df.at[after_index, 'AQI']\n",
    "            elif after_index >= len(df):\n",
    "                val = df.at[before_index, 'AQI']\n",
    "            else:\n",
    "                val = (df.at[before_index, 'AQI'] + df.at[after_index, 'AQI']) // 2\n",
    "            replacement_values[i] = val\n",
    "    for i in range(len(df)):\n",
    "        if i in replacement_values:\n",
    "            df.at[i, 'AQI'] = replacement_values[i]\n",
    "    df = df[['Date', 'AQI']]\n",
    "    return df"
   ]
  },
  {
   "cell_type": "code",
   "execution_count": 55,
   "metadata": {},
   "outputs": [
    {
     "name": "stdout",
     "output_type": "stream",
     "text": [
      "           Date   AQI\n",
      "0    2017-01-01  33.0\n",
      "1    2017-01-02  18.0\n",
      "2    2017-01-03   6.0\n",
      "3    2017-01-04  11.0\n",
      "4    2017-01-05  13.0\n",
      "...         ...   ...\n",
      "2186 2022-12-27  29.0\n",
      "2187 2022-12-28  29.0\n",
      "2188 2022-12-29  29.0\n",
      "2189 2022-12-30  29.0\n",
      "2190 2022-12-31  29.0\n",
      "\n",
      "[2191 rows x 2 columns]\n"
     ]
    }
   ],
   "source": [
    "df_list = []\n",
    "\n",
    "start_year = 2017\n",
    "end_year = 2022\n",
    "\n",
    "for year in range(start_year, end_year):\n",
    "    data = pd.read_csv(f\"daily_aqi_by_county_{year}.csv\")\n",
    "    data_virginia_only = data[data['county Name'] == 'Albemarle'].sort_values('Date').reset_index()\n",
    "    df_list.append(data_virginia_only)\n",
    "\n",
    "total_data = pd.concat(df_list, ignore_index=True)\n",
    "total_data = fill_missing_aqi(total_data, f'{start_year}-01-01', f'{end_year}-12-31')\n",
    "print(total_data)"
   ]
  },
  {
   "cell_type": "code",
   "execution_count": 56,
   "metadata": {},
   "outputs": [],
   "source": [
    "with open('cleaned_aqi_data.pkl', 'wb') as f:\n",
    "    pickle.dump(total_data, f)"
   ]
  }
 ],
 "metadata": {
  "kernelspec": {
   "display_name": "env",
   "language": "python",
   "name": "python3"
  },
  "language_info": {
   "codemirror_mode": {
    "name": "ipython",
    "version": 3
   },
   "file_extension": ".py",
   "mimetype": "text/x-python",
   "name": "python",
   "nbconvert_exporter": "python",
   "pygments_lexer": "ipython3",
   "version": "3.10.12"
  }
 },
 "nbformat": 4,
 "nbformat_minor": 2
}
